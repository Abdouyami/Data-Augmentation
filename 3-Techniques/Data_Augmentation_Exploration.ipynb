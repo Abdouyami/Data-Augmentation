{
 "cells": [
  {
   "cell_type": "markdown",
   "metadata": {},
   "source": [
    "# Employee Chatbot: Data Augmentation for Training\n",
    "\n",
    "This notebook outlines the steps to augment a dataset of employee queries for training a chatbot. The goal is to increase the dataset size from 1,000 to 20,000 rows using techniques like paraphrasing, back-translation, and synthetic data generation.\n",
    "\n",
    "---\n",
    "\n",
    "### *Libraries Used*\n",
    "We will use the following Python libraries:\n",
    "- *Data Manipulation*: pandas, numpy\n",
    "- *Data Augmentation*: nlpaug, transformers, torch\n",
    "- *Back-Translation*: googletrans, deep-translator\n",
    "- *Grammar Correction*: language-tool-python\n",
    "\n",
    "---\n",
    "\n",
    "### *Installation*\n",
    "To install all required libraries, we create a requirements.txt file and to install them run this command:\n",
    "\n",
    "```bash\n",
    "    pip install -r requirements.txt\n",
    "```\n",
    "\n",
    "---\n",
    "\n",
    "### *Dataset Overview*\n",
    "The dataset contains employee queries with the following columns:\n",
    "- user_query: The employee's question or problem.\n",
    "- intent: The category or purpose of the query (e.g., \"password_reset\").\n",
    "- solution: The response or solution to the query.\n",
    "\n",
    "Our goal is to augment the user_query column while preserving the intent and solution columns."
   ]
  },
  {
   "cell_type": "code",
   "execution_count": 1,
   "metadata": {},
   "outputs": [
    {
     "data": {
      "text/html": [
       "<div>\n",
       "<style scoped>\n",
       "    .dataframe tbody tr th:only-of-type {\n",
       "        vertical-align: middle;\n",
       "    }\n",
       "\n",
       "    .dataframe tbody tr th {\n",
       "        vertical-align: top;\n",
       "    }\n",
       "\n",
       "    .dataframe thead th {\n",
       "        text-align: right;\n",
       "    }\n",
       "</style>\n",
       "<table border=\"1\" class=\"dataframe\">\n",
       "  <thead>\n",
       "    <tr style=\"text-align: right;\">\n",
       "      <th></th>\n",
       "      <th>user_query</th>\n",
       "      <th>intent</th>\n",
       "      <th>solution</th>\n",
       "    </tr>\n",
       "  </thead>\n",
       "  <tbody>\n",
       "    <tr>\n",
       "      <th>0</th>\n",
       "      <td>My password isn't working, can you help me res...</td>\n",
       "      <td>reset_password</td>\n",
       "      <td>Please follow the steps in the password reset ...</td>\n",
       "    </tr>\n",
       "    <tr>\n",
       "      <th>1</th>\n",
       "      <td>I can't log in; I think I forgot my password. ...</td>\n",
       "      <td>reset_password</td>\n",
       "      <td>A password reset link has been sent to your em...</td>\n",
       "    </tr>\n",
       "    <tr>\n",
       "      <th>2</th>\n",
       "      <td>I'm unable to access my account because my pas...</td>\n",
       "      <td>reset_password</td>\n",
       "      <td>Try resetting your password using the 'Forgot ...</td>\n",
       "    </tr>\n",
       "    <tr>\n",
       "      <th>3</th>\n",
       "      <td>Can you reset my password for me? I’ve been lo...</td>\n",
       "      <td>reset_password</td>\n",
       "      <td>Please check your email for a reset link and f...</td>\n",
       "    </tr>\n",
       "    <tr>\n",
       "      <th>4</th>\n",
       "      <td>I can't remember my password and need to reset...</td>\n",
       "      <td>reset_password</td>\n",
       "      <td>A reset link has been sent to your email. Use ...</td>\n",
       "    </tr>\n",
       "  </tbody>\n",
       "</table>\n",
       "</div>"
      ],
      "text/plain": [
       "                                          user_query          intent  \\\n",
       "0  My password isn't working, can you help me res...  reset_password   \n",
       "1  I can't log in; I think I forgot my password. ...  reset_password   \n",
       "2  I'm unable to access my account because my pas...  reset_password   \n",
       "3  Can you reset my password for me? I’ve been lo...  reset_password   \n",
       "4  I can't remember my password and need to reset...  reset_password   \n",
       "\n",
       "                                            solution  \n",
       "0  Please follow the steps in the password reset ...  \n",
       "1  A password reset link has been sent to your em...  \n",
       "2  Try resetting your password using the 'Forgot ...  \n",
       "3  Please check your email for a reset link and f...  \n",
       "4  A reset link has been sent to your email. Use ...  "
      ]
     },
     "execution_count": 1,
     "metadata": {},
     "output_type": "execute_result"
    }
   ],
   "source": [
    "import pandas as pd\n",
    "\n",
    "#load the dataset\n",
    "df = pd.read_csv(\"../original-data/helpdesk_dataset.csv\")\n",
    "df.head()"
   ]
  },
  {
   "cell_type": "code",
   "execution_count": 3,
   "metadata": {},
   "outputs": [
    {
     "data": {
      "text/plain": [
       "array(['reset_password', 'access_issue', 'software_install',\n",
       "       'ticket_status', 'vpn_setup', 'hardware_issue', 'change_username',\n",
       "       'new_hardware_request', 'unlock_account', 'network_support',\n",
       "       'slow_computer', 'shared_folder_access', 'external_drive_issue',\n",
       "       'software_updates', 'internet_issue', 'reset_security_questions',\n",
       "       'email_signature_setup', 'change_language_settings',\n",
       "       'report_phishing', 'ticketing_system_guide'], dtype=object)"
      ]
     },
     "execution_count": 3,
     "metadata": {},
     "output_type": "execute_result"
    }
   ],
   "source": [
    "df[\"intent\"].unique()"
   ]
  },
  {
   "cell_type": "code",
   "execution_count": 2,
   "metadata": {},
   "outputs": [],
   "source": [
    "df_copy = df.copy()"
   ]
  },
  {
   "cell_type": "markdown",
   "metadata": {},
   "source": [
    "## Step 1: Paraphrasing with Grammar Correction\n",
    "\n",
    "We use the *nlpaug* library to paraphrase the user_query column. This generates new variations of the same query while preserving the intent and solution. To ensure high-quality outputs, we also apply *grammar correction* to the paraphrased text.\n",
    "\n",
    "### Steps:\n",
    "1. Initialize the paraphrasing augmenter.\n",
    "2. Initialize the grammar correction tool.\n",
    "3. Sample 50% of the dataset.\n",
    "4. Generate 4 paraphrased versions for each query.\n",
    "5. Correct grammar for each paraphrased query.\n",
    "6. Append the augmented data to a new DataFrame."
   ]
  },
  {
   "cell_type": "code",
   "execution_count": 17,
   "metadata": {},
   "outputs": [
    {
     "data": {
      "text/html": [
       "<div>\n",
       "<style scoped>\n",
       "    .dataframe tbody tr th:only-of-type {\n",
       "        vertical-align: middle;\n",
       "    }\n",
       "\n",
       "    .dataframe tbody tr th {\n",
       "        vertical-align: top;\n",
       "    }\n",
       "\n",
       "    .dataframe thead th {\n",
       "        text-align: right;\n",
       "    }\n",
       "</style>\n",
       "<table border=\"1\" class=\"dataframe\">\n",
       "  <thead>\n",
       "    <tr style=\"text-align: right;\">\n",
       "      <th></th>\n",
       "      <th>user_query</th>\n",
       "      <th>intent</th>\n",
       "      <th>solution</th>\n",
       "    </tr>\n",
       "  </thead>\n",
       "  <tbody>\n",
       "    <tr>\n",
       "      <th>0</th>\n",
       "      <td>She would like TAE change my business to somet...</td>\n",
       "      <td>change_username</td>\n",
       "      <td>Submit a request with the new professional use...</td>\n",
       "    </tr>\n",
       "    <tr>\n",
       "      <th>1</th>\n",
       "      <td>I would try to consider my username to be pure...</td>\n",
       "      <td>change_username</td>\n",
       "      <td>Submit a request with the new professional use...</td>\n",
       "    </tr>\n",
       "    <tr>\n",
       "      <th>2</th>\n",
       "      <td>I still need to amend my username for somethin...</td>\n",
       "      <td>change_username</td>\n",
       "      <td>Submit a request with the new professional use...</td>\n",
       "    </tr>\n",
       "    <tr>\n",
       "      <th>3</th>\n",
       "      <td>I would probably might change the username for...</td>\n",
       "      <td>change_username</td>\n",
       "      <td>Submit a request with the new professional use...</td>\n",
       "    </tr>\n",
       "    <tr>\n",
       "      <th>4</th>\n",
       "      <td>How will I install any latest version on this ...</td>\n",
       "      <td>software_install</td>\n",
       "      <td>Download the latest version from the official ...</td>\n",
       "    </tr>\n",
       "  </tbody>\n",
       "</table>\n",
       "</div>"
      ],
      "text/plain": [
       "                                          user_query            intent  \\\n",
       "0  She would like TAE change my business to somet...   change_username   \n",
       "1  I would try to consider my username to be pure...   change_username   \n",
       "2  I still need to amend my username for somethin...   change_username   \n",
       "3  I would probably might change the username for...   change_username   \n",
       "4  How will I install any latest version on this ...  software_install   \n",
       "\n",
       "                                            solution  \n",
       "0  Submit a request with the new professional use...  \n",
       "1  Submit a request with the new professional use...  \n",
       "2  Submit a request with the new professional use...  \n",
       "3  Submit a request with the new professional use...  \n",
       "4  Download the latest version from the official ...  "
      ]
     },
     "execution_count": 17,
     "metadata": {},
     "output_type": "execute_result"
    }
   ],
   "source": [
    "import nlpaug.augmenter.word as naw\n",
    "import language_tool_python\n",
    "\n",
    "# Initialize the grammar checker\n",
    "tool = language_tool_python.LanguageTool(\"en-US\")\n",
    "\n",
    "# initialize the paraphrasing augmenter\n",
    "paraphrase_aug = naw.ContextualWordEmbsAug(model_path=\"bert-base-uncased\", action=\"substitute\")\n",
    "\n",
    "# Correting Grammar\n",
    "def correct_grammar(text):\n",
    "    matches = tool.check(text)\n",
    "    corrected_text = language_tool_python.utils.correct(text, matches)\n",
    "    return corrected_text\n",
    "\n",
    "# Augment 50% of the data\n",
    "augmented_data = []\n",
    "for index, row in df_copy.sample(frac=0.5).iterrows(): # Sample 50% of the data\n",
    "    augmented_query = paraphrase_aug.augment(row[\"user_query\"], n=4)\n",
    "    for text in augmented_query:\n",
    "        corrected_text = correct_grammar(text=text)\n",
    "        augmented_data.append({\n",
    "            \"user_query\": corrected_text, \n",
    "            \"intent\": row[\"intent\"],\n",
    "            \"solution\": row[\"solution\"]\n",
    "        })\n",
    "\n",
    "# Convert to DataFrame\n",
    "augmented_df = pd.DataFrame(augmented_data)\n",
    "augmented_df.head()"
   ]
  },
  {
   "cell_type": "code",
   "execution_count": 18,
   "metadata": {},
   "outputs": [
    {
     "name": "stdout",
     "output_type": "stream",
     "text": [
      "Data size: 2044\n"
     ]
    }
   ],
   "source": [
    "augmented_df.to_csv(\"data/paraphrasing.csv\", index=False)\n",
    "print(f\"Data size: {len(augmented_df)}\")\n"
   ]
  },
  {
   "cell_type": "code",
   "execution_count": 49,
   "metadata": {},
   "outputs": [],
   "source": [
    "augmented_df_copy = augmented_df.copy()"
   ]
  },
  {
   "cell_type": "markdown",
   "metadata": {},
   "source": [
    "### Second Attempt (Why Not)\n",
    "\n",
    "- 1 : 2044 -> 4088\n",
    "- 2: 4088 -> 8176\n",
    "- 3: Stay same 8176"
   ]
  },
  {
   "cell_type": "code",
   "execution_count": 42,
   "metadata": {},
   "outputs": [
    {
     "data": {
      "text/html": [
       "<div>\n",
       "<style scoped>\n",
       "    .dataframe tbody tr th:only-of-type {\n",
       "        vertical-align: middle;\n",
       "    }\n",
       "\n",
       "    .dataframe tbody tr th {\n",
       "        vertical-align: top;\n",
       "    }\n",
       "\n",
       "    .dataframe thead th {\n",
       "        text-align: right;\n",
       "    }\n",
       "</style>\n",
       "<table border=\"1\" class=\"dataframe\">\n",
       "  <thead>\n",
       "    <tr style=\"text-align: right;\">\n",
       "      <th></th>\n",
       "      <th>user_query</th>\n",
       "      <th>intent</th>\n",
       "      <th>solution</th>\n",
       "    </tr>\n",
       "  </thead>\n",
       "  <tbody>\n",
       "    <tr>\n",
       "      <th>0</th>\n",
       "      <td>Where can she build another report against my ...</td>\n",
       "      <td>ticketing_system_guide</td>\n",
       "      <td>Go to the 'Reports' section in the system, sel...</td>\n",
       "    </tr>\n",
       "    <tr>\n",
       "      <th>1</th>\n",
       "      <td>How can she build one report on global health?</td>\n",
       "      <td>ticketing_system_guide</td>\n",
       "      <td>Go to the 'Reports' section in the system, sel...</td>\n",
       "    </tr>\n",
       "    <tr>\n",
       "      <th>2</th>\n",
       "      <td>But did she build a report on my marriage?</td>\n",
       "      <td>ticketing_system_guide</td>\n",
       "      <td>Go to the 'Reports' section in the system, sel...</td>\n",
       "    </tr>\n",
       "    <tr>\n",
       "      <th>3</th>\n",
       "      <td>How can one build a report about my life?</td>\n",
       "      <td>ticketing_system_guide</td>\n",
       "      <td>Go to the 'Reports' section in the system, sel...</td>\n",
       "    </tr>\n",
       "    <tr>\n",
       "      <th>4</th>\n",
       "      <td>My speed is seriously poor. All' haven even tr...</td>\n",
       "      <td>internet_issue</td>\n",
       "      <td>Ensure that there are no other devices using e...</td>\n",
       "    </tr>\n",
       "  </tbody>\n",
       "</table>\n",
       "</div>"
      ],
      "text/plain": [
       "                                          user_query                  intent  \\\n",
       "0  Where can she build another report against my ...  ticketing_system_guide   \n",
       "1     How can she build one report on global health?  ticketing_system_guide   \n",
       "2         But did she build a report on my marriage?  ticketing_system_guide   \n",
       "3          How can one build a report about my life?  ticketing_system_guide   \n",
       "4  My speed is seriously poor. All' haven even tr...          internet_issue   \n",
       "\n",
       "                                            solution  \n",
       "0  Go to the 'Reports' section in the system, sel...  \n",
       "1  Go to the 'Reports' section in the system, sel...  \n",
       "2  Go to the 'Reports' section in the system, sel...  \n",
       "3  Go to the 'Reports' section in the system, sel...  \n",
       "4  Ensure that there are no other devices using e...  "
      ]
     },
     "execution_count": 42,
     "metadata": {},
     "output_type": "execute_result"
    }
   ],
   "source": [
    "# Augment 50% of the data\n",
    "augmented_data = []\n",
    "for index, row in augmented_df.sample(frac=0.5).iterrows(): # Sample 50% of the data\n",
    "    augmented_query = paraphrase_aug.augment(row[\"user_query\"], n=4)\n",
    "    for text in augmented_query:\n",
    "        corrected_text = correct_grammar(text=text)\n",
    "        augmented_data.append({\n",
    "            \"user_query\": corrected_text, \n",
    "            \"intent\": row[\"intent\"],\n",
    "            \"solution\": row[\"solution\"]\n",
    "        })\n",
    "\n",
    "# Convert to DataFrame\n",
    "augmented_df_2 = pd.DataFrame(augmented_data)\n",
    "augmented_df_2.head()"
   ]
  },
  {
   "cell_type": "code",
   "execution_count": 52,
   "metadata": {},
   "outputs": [],
   "source": [
    "def paraphrasing(df):\n",
    "    # Augment 50% of the data\n",
    "    augmented_data = []\n",
    "    for index, row in augmented_df.iterrows():\n",
    "        augmented_query = paraphrase_aug.augment(row[\"user_query\"], n=4)\n",
    "        for text in augmented_query:\n",
    "            corrected_text = correct_grammar(text=text)\n",
    "            augmented_data.append({\n",
    "                \"user_query\": corrected_text, \n",
    "                \"intent\": row[\"intent\"],\n",
    "                \"solution\": row[\"solution\"]\n",
    "            })\n",
    "    return augmented_data        "
   ]
  },
  {
   "cell_type": "code",
   "execution_count": 56,
   "metadata": {},
   "outputs": [
    {
     "name": "stdout",
     "output_type": "stream",
     "text": [
      "8176\n"
     ]
    },
    {
     "data": {
      "text/html": [
       "<div>\n",
       "<style scoped>\n",
       "    .dataframe tbody tr th:only-of-type {\n",
       "        vertical-align: middle;\n",
       "    }\n",
       "\n",
       "    .dataframe tbody tr th {\n",
       "        vertical-align: top;\n",
       "    }\n",
       "\n",
       "    .dataframe thead th {\n",
       "        text-align: right;\n",
       "    }\n",
       "</style>\n",
       "<table border=\"1\" class=\"dataframe\">\n",
       "  <thead>\n",
       "    <tr style=\"text-align: right;\">\n",
       "      <th></th>\n",
       "      <th>user_query</th>\n",
       "      <th>intent</th>\n",
       "      <th>solution</th>\n",
       "    </tr>\n",
       "  </thead>\n",
       "  <tbody>\n",
       "    <tr>\n",
       "      <th>0</th>\n",
       "      <td>She would like TAE move their attitude to some...</td>\n",
       "      <td>change_username</td>\n",
       "      <td>Submit a request with the new professional use...</td>\n",
       "    </tr>\n",
       "    <tr>\n",
       "      <th>1</th>\n",
       "      <td>It would like me change my business in somethi...</td>\n",
       "      <td>change_username</td>\n",
       "      <td>Submit a request with the new professional use...</td>\n",
       "    </tr>\n",
       "    <tr>\n",
       "      <th>2</th>\n",
       "      <td>She would need ta change this business to some...</td>\n",
       "      <td>change_username</td>\n",
       "      <td>Submit a request with the new professional use...</td>\n",
       "    </tr>\n",
       "    <tr>\n",
       "      <th>3</th>\n",
       "      <td>She would like TAE change her clothes or becom...</td>\n",
       "      <td>change_username</td>\n",
       "      <td>Submit a request with the new professional use...</td>\n",
       "    </tr>\n",
       "    <tr>\n",
       "      <th>4</th>\n",
       "      <td>Parents will try to consider this username to ...</td>\n",
       "      <td>change_username</td>\n",
       "      <td>Submit a request with the new professional use...</td>\n",
       "    </tr>\n",
       "  </tbody>\n",
       "</table>\n",
       "</div>"
      ],
      "text/plain": [
       "                                          user_query           intent  \\\n",
       "0  She would like TAE move their attitude to some...  change_username   \n",
       "1  It would like me change my business in somethi...  change_username   \n",
       "2  She would need ta change this business to some...  change_username   \n",
       "3  She would like TAE change her clothes or becom...  change_username   \n",
       "4  Parents will try to consider this username to ...  change_username   \n",
       "\n",
       "                                            solution  \n",
       "0  Submit a request with the new professional use...  \n",
       "1  Submit a request with the new professional use...  \n",
       "2  Submit a request with the new professional use...  \n",
       "3  Submit a request with the new professional use...  \n",
       "4  Submit a request with the new professional use...  "
      ]
     },
     "execution_count": 56,
     "metadata": {},
     "output_type": "execute_result"
    }
   ],
   "source": [
    "augmented_data = paraphrasing(augmented_df_2)\n",
    "\n",
    "# Convert to DataFrame\n",
    "augmented_df_2 = pd.DataFrame(augmented_data)\n",
    "print(len(augmented_df_2))\n",
    "augmented_df_2.head()"
   ]
  },
  {
   "cell_type": "code",
   "execution_count": 58,
   "metadata": {},
   "outputs": [
    {
     "data": {
      "text/html": [
       "<div>\n",
       "<style scoped>\n",
       "    .dataframe tbody tr th:only-of-type {\n",
       "        vertical-align: middle;\n",
       "    }\n",
       "\n",
       "    .dataframe tbody tr th {\n",
       "        vertical-align: top;\n",
       "    }\n",
       "\n",
       "    .dataframe thead th {\n",
       "        text-align: right;\n",
       "    }\n",
       "</style>\n",
       "<table border=\"1\" class=\"dataframe\">\n",
       "  <thead>\n",
       "    <tr style=\"text-align: right;\">\n",
       "      <th></th>\n",
       "      <th>user_query</th>\n",
       "      <th>intent</th>\n",
       "      <th>solution</th>\n",
       "    </tr>\n",
       "  </thead>\n",
       "  <tbody>\n",
       "    <tr>\n",
       "      <th>0</th>\n",
       "      <td>India did prefer TAE change my business to bei...</td>\n",
       "      <td>change_username</td>\n",
       "      <td>Submit a request with the new professional use...</td>\n",
       "    </tr>\n",
       "    <tr>\n",
       "      <th>1</th>\n",
       "      <td>She felt like TAE expand my business through s...</td>\n",
       "      <td>change_username</td>\n",
       "      <td>Submit a request with the new professional use...</td>\n",
       "    </tr>\n",
       "    <tr>\n",
       "      <th>2</th>\n",
       "      <td>They would like to guide my business to someth...</td>\n",
       "      <td>change_username</td>\n",
       "      <td>Submit a request with the new professional use...</td>\n",
       "    </tr>\n",
       "    <tr>\n",
       "      <th>3</th>\n",
       "      <td>She would need TAE change my business or somet...</td>\n",
       "      <td>change_username</td>\n",
       "      <td>Submit a request with the new professional use...</td>\n",
       "    </tr>\n",
       "    <tr>\n",
       "      <th>4</th>\n",
       "      <td>I would try no consider a job as be purely pro...</td>\n",
       "      <td>change_username</td>\n",
       "      <td>Submit a request with the new professional use...</td>\n",
       "    </tr>\n",
       "  </tbody>\n",
       "</table>\n",
       "</div>"
      ],
      "text/plain": [
       "                                          user_query           intent  \\\n",
       "0  India did prefer TAE change my business to bei...  change_username   \n",
       "1  She felt like TAE expand my business through s...  change_username   \n",
       "2  They would like to guide my business to someth...  change_username   \n",
       "3  She would need TAE change my business or somet...  change_username   \n",
       "4  I would try no consider a job as be purely pro...  change_username   \n",
       "\n",
       "                                            solution  \n",
       "0  Submit a request with the new professional use...  \n",
       "1  Submit a request with the new professional use...  \n",
       "2  Submit a request with the new professional use...  \n",
       "3  Submit a request with the new professional use...  \n",
       "4  Submit a request with the new professional use...  "
      ]
     },
     "execution_count": 58,
     "metadata": {},
     "output_type": "execute_result"
    }
   ],
   "source": [
    "augmented_data = paraphrasing(augmented_df_2)\n",
    "\n",
    "# Convert to DataFrame\n",
    "augmented_df_3 = pd.DataFrame(augmented_data)\n",
    "augmented_df_3.head()"
   ]
  },
  {
   "cell_type": "code",
   "execution_count": 59,
   "metadata": {},
   "outputs": [
    {
     "name": "stdout",
     "output_type": "stream",
     "text": [
      "Data size (2nd Attempt): 8176\n"
     ]
    }
   ],
   "source": [
    "augmented_df_3.to_csv(\"data/paraphrasing-3.csv\", index=False)\n",
    "print(f\"Data size (2nd Attempt): {len(augmented_df_3)}\")"
   ]
  },
  {
   "cell_type": "markdown",
   "metadata": {},
   "source": [
    "### Correcting Grammar"
   ]
  },
  {
   "cell_type": "code",
   "execution_count": 14,
   "metadata": {},
   "outputs": [
    {
     "data": {
      "text/plain": [
       "'I am unable to come upstairs as my door is locked. Can Jason help them with this?'"
      ]
     },
     "execution_count": 14,
     "metadata": {},
     "output_type": "execute_result"
    }
   ],
   "source": [
    "import language_tool_python\n",
    "\n",
    "# Initialize the grammar checker\n",
    "tool = language_tool_python.LanguageTool(\"en-US\")\n",
    "\n",
    "def correct_grammar(text):\n",
    "    matches = tool.check(text)\n",
    "    corrected_text = language_tool_python.utils.correct(text, matches)\n",
    "    return corrected_text\n",
    "correct_grammar(\"i are unable to come upstairs as my door is locked. can jason help them with this?\")"
   ]
  },
  {
   "cell_type": "code",
   "execution_count": null,
   "metadata": {},
   "outputs": [],
   "source": [
    "augmented_df = augmented_df_2"
   ]
  },
  {
   "cell_type": "markdown",
   "metadata": {},
   "source": [
    "## Step 2: Back-Translation\n",
    "\n",
    "We use back-translation to generate additional variations of the user_query column. This involves translating the text to an intermediate language (e.g., French) and then back to English.\n",
    "\n",
    "### Steps:\n",
    "1. Define a back-translation function.\n",
    "2. Sample 50% of the dataset.\n",
    "3. Generate 2 back-translated versions for each query.\n",
    "4. Append the augmented data to a new DataFrame."
   ]
  },
  {
   "cell_type": "code",
   "execution_count": 19,
   "metadata": {},
   "outputs": [
    {
     "data": {
      "text/html": [
       "<div>\n",
       "<style scoped>\n",
       "    .dataframe tbody tr th:only-of-type {\n",
       "        vertical-align: middle;\n",
       "    }\n",
       "\n",
       "    .dataframe tbody tr th {\n",
       "        vertical-align: top;\n",
       "    }\n",
       "\n",
       "    .dataframe thead th {\n",
       "        text-align: right;\n",
       "    }\n",
       "</style>\n",
       "<table border=\"1\" class=\"dataframe\">\n",
       "  <thead>\n",
       "    <tr style=\"text-align: right;\">\n",
       "      <th></th>\n",
       "      <th>user_query</th>\n",
       "      <th>intent</th>\n",
       "      <th>solution</th>\n",
       "    </tr>\n",
       "  </thead>\n",
       "  <tbody>\n",
       "    <tr>\n",
       "      <th>0</th>\n",
       "      <td>Can we get a new set of high-performance monit...</td>\n",
       "      <td>new_hardware_request</td>\n",
       "      <td>Submit a request detailing the type and number...</td>\n",
       "    </tr>\n",
       "    <tr>\n",
       "      <th>1</th>\n",
       "      <td>I have an update waiting for my software.</td>\n",
       "      <td>software_updates</td>\n",
       "      <td>Go to the software's update section, and you s...</td>\n",
       "    </tr>\n",
       "    <tr>\n",
       "      <th>2</th>\n",
       "      <td>Can you help me with the VPN configuration for...</td>\n",
       "      <td>vpn_setup</td>\n",
       "      <td>Ensure that you have the correct VPN configura...</td>\n",
       "    </tr>\n",
       "    <tr>\n",
       "      <th>3</th>\n",
       "      <td>My external reader shows as \"offline\" in disk ...</td>\n",
       "      <td>external_drive_issue</td>\n",
       "      <td>Try bringing the drive online in Disk Manageme...</td>\n",
       "    </tr>\n",
       "    <tr>\n",
       "      <th>4</th>\n",
       "      <td>My internet connection is only very slow durin...</td>\n",
       "      <td>internet_issue</td>\n",
       "      <td>This might be due to network congestion. Conta...</td>\n",
       "    </tr>\n",
       "  </tbody>\n",
       "</table>\n",
       "</div>"
      ],
      "text/plain": [
       "                                          user_query                intent  \\\n",
       "0  Can we get a new set of high-performance monit...  new_hardware_request   \n",
       "1          I have an update waiting for my software.      software_updates   \n",
       "2  Can you help me with the VPN configuration for...             vpn_setup   \n",
       "3  My external reader shows as \"offline\" in disk ...  external_drive_issue   \n",
       "4  My internet connection is only very slow durin...        internet_issue   \n",
       "\n",
       "                                            solution  \n",
       "0  Submit a request detailing the type and number...  \n",
       "1  Go to the software's update section, and you s...  \n",
       "2  Ensure that you have the correct VPN configura...  \n",
       "3  Try bringing the drive online in Disk Manageme...  \n",
       "4  This might be due to network congestion. Conta...  "
      ]
     },
     "execution_count": 19,
     "metadata": {},
     "output_type": "execute_result"
    }
   ],
   "source": [
    "from googletrans import Translator\n",
    "\n",
    "translator = Translator()\n",
    "\n",
    "def back_translate(text, src_lang=\"en\", intermediate_lang=\"fr\"):\n",
    "    # Translate to intermediate langauge\n",
    "    translaed = translator.translate(text, src=src_lang, dest=intermediate_lang).text\n",
    "    # Translate abck to source language\n",
    "    back_translated = translator.translate(translaed, src=intermediate_lang, dest=src_lang).text\n",
    "\n",
    "    return back_translated\n",
    "\n",
    "# Apply back-translation to another 50% of the data\n",
    "back_translated_data = []\n",
    "for index, row in df_copy.sample(frac=0.5).iterrows(): \n",
    "    back_translated_query = back_translate(row[\"user_query\"])\n",
    "    back_translated_data.append({\n",
    "        \"user_query\": back_translated_query,\n",
    "        \"intent\": row[\"intent\"],\n",
    "        \"solution\": row[\"solution\"]\n",
    "    })\n",
    "\n",
    "# Convert to DataFrame\n",
    "back_translated_df = pd.DataFrame(back_translated_data)\n",
    "back_translated_df.head()\n",
    "\n"
   ]
  },
  {
   "cell_type": "code",
   "execution_count": 22,
   "metadata": {},
   "outputs": [
    {
     "name": "stdout",
     "output_type": "stream",
     "text": [
      "Data size: 511\n"
     ]
    }
   ],
   "source": [
    "back_translated_df.to_csv(\"data/back-translated.csv\", index=False)\n",
    "print(f\"Data size: {len(back_translated_df)}\")"
   ]
  },
  {
   "cell_type": "code",
   "execution_count": 7,
   "metadata": {},
   "outputs": [],
   "source": [
    "from deep_translator import GoogleTranslator\n",
    "import pandas as pd\n",
    "from tqdm import tqdm\n",
    "import time\n",
    "\n",
    "def back_translate_with_deep(text, src_lang='en', intermediate_lang='fr', max_retries=3):\n",
    "    \"\"\"\n",
    "    Perform back translation with error handling and retries\n",
    "    \"\"\"\n",
    "    if not isinstance(text, str) or text.strip() == '':\n",
    "        return ''\n",
    "    \n",
    "    for attempt in range(max_retries):\n",
    "        try:\n",
    "            # Forward translation\n",
    "            translated = GoogleTranslator(source=src_lang, target=intermediate_lang).translate(text.strip())\n",
    "            time.sleep(0.5)  # Small delay between translations\n",
    "            \n",
    "            # Back translation\n",
    "            back_translated = GoogleTranslator(source=intermediate_lang, target=src_lang).translate(translated)\n",
    "            return back_translated\n",
    "            \n",
    "        except Exception as e:\n",
    "            if attempt == max_retries - 1:\n",
    "                print(f\"\\nFailed to translate after {max_retries} attempts: {str(e)[:100]}...\")\n",
    "                return text  # Return original text if all attempts fail\n",
    "            time.sleep(1)  # Wait before retry"
   ]
  },
  {
   "cell_type": "code",
   "execution_count": 8,
   "metadata": {},
   "outputs": [],
   "source": [
    "def process_back_translations(df, batch_size=50):\n",
    "    \"\"\"\n",
    "    Process back translations with progress tracking and batching\n",
    "    \"\"\"\n",
    "    back_translated_data = []\n",
    "    \n",
    "    # Calculate total number of batches for the progress bar\n",
    "    total_batches = (len(df) + batch_size - 1) // batch_size\n",
    "    \n",
    "    # Process in batches\n",
    "    for batch_start in tqdm(range(0, len(df), batch_size), \n",
    "                           desc=\"Processing back translations\", \n",
    "                           total=total_batches):\n",
    "        batch_end = min(batch_start + batch_size, len(df))\n",
    "        batch = df.iloc[batch_start:batch_end]\n",
    "        \n",
    "        for _, row in batch.iterrows():\n",
    "            back_translated_query = back_translate_with_deep(row[\"user_query\"])\n",
    "            back_translated_data.append({\n",
    "                \"user_query\": back_translated_query,\n",
    "                \"intent\": row[\"intent\"],\n",
    "                \"solution\": row[\"solution\"]\n",
    "            })\n",
    "        \n",
    "        # Save checkpoint after each batch\n",
    "        temp_df = pd.DataFrame(back_translated_data)\n",
    "        temp_df.to_csv(\"data/back-translation-checkpoint.csv\", index=False)\n",
    "        \n",
    "        # Small delay between batches to avoid rate limiting\n",
    "        time.sleep(1)\n",
    "    \n",
    "    return pd.DataFrame(back_translated_data)"
   ]
  },
  {
   "cell_type": "code",
   "execution_count": 9,
   "metadata": {},
   "outputs": [],
   "source": [
    "def main():    \n",
    "    print(f\"Starting back translation for {len(df_copy)} entries...\")\n",
    "    \n",
    "    # Process the translations\n",
    "    back_translated_df = process_back_translations(df_copy)\n",
    "    \n",
    "    # Save final results\n",
    "    output_file = \"data/back-translated-100.csv\"\n",
    "    back_translated_df.to_csv(output_file, index=False)\n",
    "    \n",
    "    print(f\"\\nBack translation completed!\")\n",
    "    print(f\"Data size: {len(back_translated_df)}\")\n",
    "    print(f\"Results saved to: {output_file}\")"
   ]
  },
  {
   "cell_type": "code",
   "execution_count": 10,
   "metadata": {},
   "outputs": [
    {
     "name": "stdout",
     "output_type": "stream",
     "text": [
      "Starting back translation for 1022 entries...\n"
     ]
    },
    {
     "name": "stderr",
     "output_type": "stream",
     "text": [
      "Processing back translations: 100%|██████████| 21/21 [31:57<00:00, 91.32s/it]"
     ]
    },
    {
     "name": "stdout",
     "output_type": "stream",
     "text": [
      "\n",
      "Back translation completed!\n",
      "Data size: 1022\n",
      "Results saved to: data/back-translated-100.csv\n"
     ]
    },
    {
     "name": "stderr",
     "output_type": "stream",
     "text": [
      "\n"
     ]
    }
   ],
   "source": [
    "main()"
   ]
  },
  {
   "cell_type": "markdown",
   "metadata": {},
   "source": [
    "## Step 3: Synthetic Data Generation\n",
    "\n",
    "We use a pre-trained GPT model to generate synthetic queries based on the intent column.\n",
    "\n",
    "### Steps:\n",
    "1. Load a pre-trained GPT model: **GPT-2**.\n",
    "2. Generate 2 synthetic queries for each intent.\n",
    "3. Append the synthetic data to a new DataFrame."
   ]
  },
  {
   "cell_type": "code",
   "execution_count": 32,
   "metadata": {},
   "outputs": [],
   "source": [
    "# from transformers import pipeline\n",
    "\n",
    "# # Load GPT-2 text generation pipeline\n",
    "# generator = pipeline(\"text-generation\", model=\"gpt2\")\n",
    "\n",
    "# def generate_variations(prompt, num_variations=5):\n",
    "#     variations = []\n",
    "#     for _ in range(num_variations):\n",
    "#         generated_text = generator(prompt, max_length=50, num_return_sequences=1)[0][\"generated_text\"]\n",
    "#         variations.append(generated_text.strip())\n",
    "\n",
    "#     return variations\n",
    "\n",
    "# # Generate synthetic data\n",
    "# synthetic_data = []\n",
    "# for index, row in df_copy.iterrows():\n",
    "#     prompt = f\"Generate a question about : {row[\"intent\"]}\"\n",
    "#     variations = generate_variations(prompt=prompt, num_variations=2) # Generate 2 variations per row\n",
    "#     for variation in variations:\n",
    "#         synthetic_data.append({\n",
    "#             \"user_query\": variation,\n",
    "#             \"intent\": row[\"intent\"],\n",
    "#             \"solution\": row[\"solution\"]\n",
    "#         })\n",
    "\n",
    "# # Convert to DataFrame\n",
    "# synthetic_df = pd.DataFrame(synthetic_data)\n",
    "# synthetic_df.head()\n",
    "    "
   ]
  },
  {
   "cell_type": "markdown",
   "metadata": {},
   "source": [
    "- Used a pre-trained GPT-2 model to generate new queries based on the intent and solution.\n",
    "- Improved prompts by using real examples from the dataset and dynamically extracted intent-specific keywords using *TF-IDF*."
   ]
  },
  {
   "cell_type": "code",
   "execution_count": 39,
   "metadata": {},
   "outputs": [],
   "source": [
    "# from sklearn.feature_extraction.text import TfidfVectorizer\n",
    "# from transformers import pipeline\n",
    "# import pandas as pd\n",
    "# import re\n",
    "\n",
    "# class SyntheticDataGenerator:\n",
    "#     def __init__(self, model_name=\"gpt2\"):\n",
    "#         self.generator = pipeline(\"text-generation\", model=model_name)\n",
    "        \n",
    "#     def extract_intent_keywords(self, df, top_n=5):\n",
    "#         \"\"\"Extract top keywords for each intent using TF-IDF\"\"\"\n",
    "#         intent_keywords = {}\n",
    "#         for intent in df[\"intent\"].unique():\n",
    "#             # Filter queries for the current intent\n",
    "#             queries = df[df[\"intent\"] == intent][\"user_query\"]\n",
    "            \n",
    "#             # Compute TF-IDF\n",
    "#             vectorizer = TfidfVectorizer(stop_words=\"english\", max_features=1000)\n",
    "#             tfidf_matrix = vectorizer.fit_transform(queries)\n",
    "            \n",
    "#             # Get top keywords\n",
    "#             feature_names = vectorizer.get_feature_names_out()\n",
    "#             tfidf_scores = tfidf_matrix.sum(axis=0).A1\n",
    "#             top_indices = tfidf_scores.argsort()[-top_n:][::-1]\n",
    "#             intent_keywords[intent] = [feature_names[i] for i in top_indices]\n",
    "        \n",
    "#         return intent_keywords\n",
    "\n",
    "#     def create_intent_prompt(self, example_query, solution):\n",
    "#         \"\"\"Create focused prompts using real examples\"\"\"\n",
    "#         return f\"\"\"Generate 2 variations of this technical support question:\n",
    "#                 Original: {example_query}\n",
    "#                 Solution Context: {solution}\n",
    "#                 Variations should:\n",
    "#                 - Be phrased differently\n",
    "#                 - Use casual language\n",
    "#                 - Describe real-world scenarios\n",
    "#                 Examples:\"\"\"\n",
    "\n",
    "#     def generate_variations(self, prompt, num_variations=2):\n",
    "#         \"\"\"Generate with constrained randomness\"\"\"\n",
    "#         try:\n",
    "#             results = self.generator(\n",
    "#                 prompt,\n",
    "#                 max_length=512,\n",
    "#                 max_new_tokens=50,\n",
    "#                 num_return_sequences=num_variations,\n",
    "#                 temperature=0.3, # Reduced randomness\n",
    "#                 top_p=0.95,\n",
    "#                 repetition_penalty=1.2,\n",
    "#                 clean_up_tokenization_spaces=True\n",
    "#             )\n",
    "#             return [self.clean_output(res[\"generated_text\"]) for res in results]\n",
    "#         except Exception as e:\n",
    "#             print(f\"Generation error: {e}\")\n",
    "#             return []\n",
    "\n",
    "#     def clean_output(self, text):\n",
    "#         \"\"\"Extract only the generated variation\"\"\"\n",
    "#         # Remove prompt contamination\n",
    "#         cleaned = re.split(r'Examples?:|Variations?:', text)[-1]\n",
    "#         # Remove quotes and markdown\n",
    "#         cleaned = re.sub(r'[\"*]', '', cleaned).strip()\n",
    "#         # Get first complete sentence\n",
    "#         if '.' in cleaned:\n",
    "#             return cleaned.split('.')[0] + '.'\n",
    "#         return cleaned\n",
    "\n",
    "#     def is_valid_query(self, text, intent_keywords):\n",
    "#         \"\"\"Validate relevance to intent\"\"\"\n",
    "#         text_lower = text.lower()\n",
    "#         return (\n",
    "#             len(text) > 10 and\n",
    "#             any(kw in text_lower for kw in intent_keywords) and\n",
    "#             '?' in text and\n",
    "#             not ('example' in text_lower or 'http' in text)\n",
    "#         )\n",
    "\n",
    "#     def generate_synthetic_dataset(self, df, num_variations=2):\n",
    "#         synthetic_data = []\n",
    "        \n",
    "#         # Extract intent keywords dynamically\n",
    "#         intent_keywords = self.extract_intent_keywords(df)\n",
    "#         print(\"Extracted Intent Keywords:\", intent_keywords)\n",
    "\n",
    "#         for _, row in df.iterrows():\n",
    "#             prompt = self.create_intent_prompt(row[\"user_query\"], row[\"solution\"])\n",
    "#             variations = self.generate_variations(prompt, num_variations)\n",
    "            \n",
    "#             for var in variations:\n",
    "#                 if self.is_valid_query(var, intent_keywords[row[\"intent\"]]):\n",
    "#                     synthetic_data.append({\n",
    "#                         \"user_query\": var,\n",
    "#                         \"intent\": row[\"intent\"],\n",
    "#                         \"solution\": row[\"solution\"]\n",
    "#                     })\n",
    "\n",
    "#         return pd.DataFrame(synthetic_data)\n",
    "\n",
    "# # Usage\n",
    "# generator = SyntheticDataGenerator()\n",
    "# synthetic_df = generator.generate_synthetic_dataset(df_copy, num_variations=2)\n",
    "# synthetic_df.head()"
   ]
  },
  {
   "cell_type": "code",
   "execution_count": 41,
   "metadata": {},
   "outputs": [],
   "source": [
    "# synthetic_df.to_csv(\"data/synthetic-gpt2.csv\", index=False)\n",
    "# print(f\"Data size: {len(synthetic_df)}\")"
   ]
  },
  {
   "cell_type": "markdown",
   "metadata": {},
   "source": [
    "## Step 4: Combine All Augmented Data\n",
    "\n",
    "We combine the original dataset with the augmented data (paraphrased, back-translated, and synthetic) to create a final dataset."
   ]
  },
  {
   "cell_type": "code",
   "execution_count": null,
   "metadata": {},
   "outputs": [],
   "source": [
    "final_df = pd.concat([df_copy, augmented_df, back_translated_df, synthetic_df], ignore_index=True)\n",
    "\n",
    "# Remove duplicates (if any)\n",
    "final_df = final_df.drop_duplicates(subset=[\"user_query\"])\n",
    "\n",
    "final_df.to_csv(\"augmented_helpdesk_dataset.csv\", index=False)\n",
    "print(f\"Original dataset size: {len(df)} \\n Final dataset size: {len(final_df)}\")"
   ]
  },
  {
   "cell_type": "markdown",
   "metadata": {},
   "source": [
    "## Step 5: Evaluate Augmented Data\n",
    "\n",
    "We evaluate the quality of the augmented data by:\n",
    "1. Checking for grammatical errors.\n",
    "2. Ensuring the meaning of the queries is preserved.\n",
    "3. Verifying diversity in the augmented queries."
   ]
  },
  {
   "cell_type": "code",
   "execution_count": null,
   "metadata": {},
   "outputs": [],
   "source": [
    "from language_tool_python import LanguageTool\n",
    "\n",
    "# Initialize grammar checker\n",
    "tool = LanguageTool('en-US')\n",
    "\n",
    "# Check grammar for a sample of augmented data\n",
    "sample = final_df.sample(10)\n",
    "for index, row in sample.iterrows():\n",
    "    matches = tool.check(row['user_query'])\n",
    "    if matches:\n",
    "        print(f\"Query: {row['user_query']}\")\n",
    "        print(f\"Grammar issues: {matches}\")\n",
    "        print(\"------\")"
   ]
  }
 ],
 "metadata": {
  "kernelspec": {
   "display_name": "Python 3",
   "language": "python",
   "name": "python3"
  },
  "language_info": {
   "codemirror_mode": {
    "name": "ipython",
    "version": 3
   },
   "file_extension": ".py",
   "mimetype": "text/x-python",
   "name": "python",
   "nbconvert_exporter": "python",
   "pygments_lexer": "ipython3",
   "version": "3.12.4"
  }
 },
 "nbformat": 4,
 "nbformat_minor": 2
}
