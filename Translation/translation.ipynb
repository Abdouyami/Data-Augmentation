{
 "cells": [
  {
   "cell_type": "markdown",
   "metadata": {},
   "source": [
    "# Translat the Data (English to French)"
   ]
  },
  {
   "cell_type": "code",
   "execution_count": 2,
   "metadata": {},
   "outputs": [
    {
     "data": {
      "text/html": [
       "<div>\n",
       "<style scoped>\n",
       "    .dataframe tbody tr th:only-of-type {\n",
       "        vertical-align: middle;\n",
       "    }\n",
       "\n",
       "    .dataframe tbody tr th {\n",
       "        vertical-align: top;\n",
       "    }\n",
       "\n",
       "    .dataframe thead th {\n",
       "        text-align: right;\n",
       "    }\n",
       "</style>\n",
       "<table border=\"1\" class=\"dataframe\">\n",
       "  <thead>\n",
       "    <tr style=\"text-align: right;\">\n",
       "      <th></th>\n",
       "      <th>user_query</th>\n",
       "      <th>intent</th>\n",
       "      <th>solution</th>\n",
       "    </tr>\n",
       "  </thead>\n",
       "  <tbody>\n",
       "    <tr>\n",
       "      <th>0</th>\n",
       "      <td>My password isn't working, can you help me res...</td>\n",
       "      <td>reset_password</td>\n",
       "      <td>Please follow the steps in the password reset ...</td>\n",
       "    </tr>\n",
       "    <tr>\n",
       "      <th>1</th>\n",
       "      <td>I can't log in; I think I forgot my password. ...</td>\n",
       "      <td>reset_password</td>\n",
       "      <td>A password reset link has been sent to your em...</td>\n",
       "    </tr>\n",
       "    <tr>\n",
       "      <th>2</th>\n",
       "      <td>I'm unable to access my account because my pas...</td>\n",
       "      <td>reset_password</td>\n",
       "      <td>Try resetting your password using the 'Forgot ...</td>\n",
       "    </tr>\n",
       "    <tr>\n",
       "      <th>3</th>\n",
       "      <td>Can you reset my password for me? I’ve been lo...</td>\n",
       "      <td>reset_password</td>\n",
       "      <td>Please check your email for a reset link and f...</td>\n",
       "    </tr>\n",
       "    <tr>\n",
       "      <th>4</th>\n",
       "      <td>I can't remember my password and need to reset...</td>\n",
       "      <td>reset_password</td>\n",
       "      <td>A reset link has been sent to your email. Use ...</td>\n",
       "    </tr>\n",
       "  </tbody>\n",
       "</table>\n",
       "</div>"
      ],
      "text/plain": [
       "                                          user_query          intent  \\\n",
       "0  My password isn't working, can you help me res...  reset_password   \n",
       "1  I can't log in; I think I forgot my password. ...  reset_password   \n",
       "2  I'm unable to access my account because my pas...  reset_password   \n",
       "3  Can you reset my password for me? I’ve been lo...  reset_password   \n",
       "4  I can't remember my password and need to reset...  reset_password   \n",
       "\n",
       "                                            solution  \n",
       "0  Please follow the steps in the password reset ...  \n",
       "1  A password reset link has been sent to your em...  \n",
       "2  Try resetting your password using the 'Forgot ...  \n",
       "3  Please check your email for a reset link and f...  \n",
       "4  A reset link has been sent to your email. Use ...  "
      ]
     },
     "execution_count": 2,
     "metadata": {},
     "output_type": "execute_result"
    }
   ],
   "source": [
    "import pandas as pd\n",
    "\n",
    "#load the dataset\n",
    "df = pd.read_csv(\"../original-data/helpdesk_dataset.csv\")\n",
    "df.head()"
   ]
  },
  {
   "cell_type": "code",
   "execution_count": 4,
   "metadata": {},
   "outputs": [
    {
     "data": {
      "text/html": [
       "<div>\n",
       "<style scoped>\n",
       "    .dataframe tbody tr th:only-of-type {\n",
       "        vertical-align: middle;\n",
       "    }\n",
       "\n",
       "    .dataframe tbody tr th {\n",
       "        vertical-align: top;\n",
       "    }\n",
       "\n",
       "    .dataframe thead th {\n",
       "        text-align: right;\n",
       "    }\n",
       "</style>\n",
       "<table border=\"1\" class=\"dataframe\">\n",
       "  <thead>\n",
       "    <tr style=\"text-align: right;\">\n",
       "      <th></th>\n",
       "      <th>user_query</th>\n",
       "      <th>intent</th>\n",
       "      <th>solution</th>\n",
       "    </tr>\n",
       "  </thead>\n",
       "  <tbody>\n",
       "    <tr>\n",
       "      <th>0</th>\n",
       "      <td>My password isn't working; can you assist me i...</td>\n",
       "      <td>reset_password</td>\n",
       "      <td>Please follow the steps in the password reset ...</td>\n",
       "    </tr>\n",
       "    <tr>\n",
       "      <th>1</th>\n",
       "      <td>I’m having trouble with my password; could you...</td>\n",
       "      <td>reset_password</td>\n",
       "      <td>Please follow the steps in the password reset ...</td>\n",
       "    </tr>\n",
       "    <tr>\n",
       "      <th>2</th>\n",
       "      <td>Can you help me reset my password?</td>\n",
       "      <td>reset_password</td>\n",
       "      <td>Please follow the steps in the password reset ...</td>\n",
       "    </tr>\n",
       "    <tr>\n",
       "      <th>3</th>\n",
       "      <td>It seems my password isn’t functioning; how ca...</td>\n",
       "      <td>reset_password</td>\n",
       "      <td>Please follow the steps in the password reset ...</td>\n",
       "    </tr>\n",
       "    <tr>\n",
       "      <th>4</th>\n",
       "      <td>My password has stopped working; can you guide...</td>\n",
       "      <td>reset_password</td>\n",
       "      <td>Please follow the steps in the password reset ...</td>\n",
       "    </tr>\n",
       "  </tbody>\n",
       "</table>\n",
       "</div>"
      ],
      "text/plain": [
       "                                          user_query          intent  \\\n",
       "0  My password isn't working; can you assist me i...  reset_password   \n",
       "1  I’m having trouble with my password; could you...  reset_password   \n",
       "2                 Can you help me reset my password?  reset_password   \n",
       "3  It seems my password isn’t functioning; how ca...  reset_password   \n",
       "4  My password has stopped working; can you guide...  reset_password   \n",
       "\n",
       "                                            solution  \n",
       "0  Please follow the steps in the password reset ...  \n",
       "1  Please follow the steps in the password reset ...  \n",
       "2  Please follow the steps in the password reset ...  \n",
       "3  Please follow the steps in the password reset ...  \n",
       "4  Please follow the steps in the password reset ...  "
      ]
     },
     "execution_count": 4,
     "metadata": {},
     "output_type": "execute_result"
    }
   ],
   "source": [
    "#load the dataset\n",
    "df_augmented = pd.read_csv(\"../Open Router/data/augmented_helpdesk_dataset.csv\")\n",
    "df_augmented.head()"
   ]
  },
  {
   "cell_type": "markdown",
   "metadata": {},
   "source": [
    "## Combine Data"
   ]
  },
  {
   "cell_type": "code",
   "execution_count": null,
   "metadata": {},
   "outputs": [
    {
     "name": "stdout",
     "output_type": "stream",
     "text": [
      "Original dataset size: 1022 \n",
      " Augmented dataset size: 13798 \n",
      "Final dataset size: 13225\n"
     ]
    }
   ],
   "source": [
    "final_df = pd.concat([df, df_augmented], ignore_index=True)\n",
    "\n",
    "# Remove duplicates (if any)\n",
    "final_df = final_df.drop_duplicates(subset=[\"user_query\"])\n",
    "\n",
    "final_df.to_csv(\"data/finaL_helpdesk_dataset_v1.csv\", index=False)\n",
    "print(f\"Original dataset size: {len(df)} \\n Augmented dataset size: {len(df_augmented)} \\nFinal dataset size: {len(final_df)}\")"
   ]
  },
  {
   "cell_type": "code",
   "execution_count": 8,
   "metadata": {},
   "outputs": [
    {
     "data": {
      "text/plain": [
       "12217"
      ]
     },
     "execution_count": 8,
     "metadata": {},
     "output_type": "execute_result"
    }
   ],
   "source": [
    "# Remove duplicates (if any)\n",
    "final_df_augmented = df_augmented.drop_duplicates(subset=[\"user_query\"])\n",
    "len(final_df_augmented)"
   ]
  },
  {
   "cell_type": "code",
   "execution_count": 18,
   "metadata": {},
   "outputs": [],
   "source": [
    "final_df_french = final_df.copy()\n",
    "final_df_french_2 = final_df_french"
   ]
  },
  {
   "cell_type": "markdown",
   "metadata": {},
   "source": [
    "## Translation"
   ]
  },
  {
   "cell_type": "markdown",
   "metadata": {},
   "source": [
    "-----\n",
    "\n",
    "## Using DeepL API"
   ]
  },
  {
   "cell_type": "code",
   "execution_count": null,
   "metadata": {},
   "outputs": [],
   "source": [
    "import pandas as pd\n",
    "import deepl\n",
    "\n",
    "api_key = \"\" # insert your api key\n",
    "# Initialize DeepL translator\n",
    "translator = deepl.Translator(api_key)  # Replace with your DeepL API key\n",
    "\n",
    "def translate_to_french(text):\n",
    "    \"\"\"Translate text to French using DeepL API\"\"\"\n",
    "    try:\n",
    "        result = translator.translate_text(text, target_lang=\"FR\")\n",
    "        return result.text\n",
    "    except Exception as e:\n",
    "        print(f\"Translation error: {e}\")\n",
    "        return text  # Return original text if translation fails"
   ]
  },
  {
   "cell_type": "code",
   "execution_count": 17,
   "metadata": {},
   "outputs": [],
   "source": [
    "# # Translate the 'user_query' and 'solution' columns\n",
    "# final_df_french[\"user_query_fr\"] = final_df_french[\"user_query\"].apply(translate_to_french)\n",
    "# final_df_french[\"solution_fr\"] = final_df_french[\"solution\"].apply(translate_to_french)\n",
    "\n",
    "# # Save the translated dataset\n",
    "# final_df_french.to_csv(\"augmented_data_french.csv\", index=False)\n",
    "# print(\"Translation complete. Dataset saved as 'augmented_data_french.csv'.\")"
   ]
  },
  {
   "cell_type": "markdown",
   "metadata": {},
   "source": [
    "----------\n",
    "## Translate Using deep_translator"
   ]
  },
  {
   "cell_type": "markdown",
   "metadata": {},
   "source": [
    "## Function Extract French Version"
   ]
  },
  {
   "cell_type": "code",
   "execution_count": 56,
   "metadata": {},
   "outputs": [],
   "source": [
    "import pandas as pd\n",
    "\n",
    "def extract_french_version(input_file, output_file):\n",
    "    # Read the original dataset\n",
    "    df = pd.read_csv(input_file)\n",
    "    \n",
    "    # Select only the French columns and intent\n",
    "    french_df = df[['user_query_fr', 'intent', 'solution_fr']].copy()\n",
    "    \n",
    "    # Rename columns to remove _fr suffix\n",
    "    french_df = french_df.rename(columns={\n",
    "        'user_query_fr': 'user_query',\n",
    "        'solution_fr': 'solution'\n",
    "    })\n",
    "    \n",
    "    # Save to new file\n",
    "    french_df.to_csv(output_file, index=False)\n",
    "    print(f\"French version extracted and saved to {output_file}\")\n",
    "    \n",
    "    return french_df"
   ]
  },
  {
   "cell_type": "markdown",
   "metadata": {},
   "source": [
    "## Version 1 (Original Data + GPT-4o mini Data)"
   ]
  },
  {
   "cell_type": "code",
   "execution_count": 25,
   "metadata": {},
   "outputs": [],
   "source": [
    "from deep_translator import GoogleTranslator\n",
    "import pandas as pd\n",
    "import time\n",
    "from tqdm import tqdm\n",
    "import logging\n",
    "\n",
    "def setup_logging():\n",
    "    logging.basicConfig(\n",
    "        level=logging.INFO,\n",
    "        format='%(asctime)s - %(levelname)s - %(message)s',\n",
    "        filename='translation_log.txt'\n",
    "    )\n",
    "\n",
    "def safe_translate(text, max_retries=3, delay=2):\n",
    "    \"\"\"\n",
    "    Safely translate text with retries and error handling\n",
    "    \"\"\"\n",
    "    if not isinstance(text, str) or text.strip() == '':\n",
    "        return ''\n",
    "    \n",
    "    for attempt in range(max_retries):\n",
    "        try:\n",
    "            result = GoogleTranslator(source=\"en\", target=\"fr\").translate(text.strip())\n",
    "            return result\n",
    "        except Exception as e:\n",
    "            logging.warning(f\"Translation failed on attempt {attempt + 1}: {str(e)}\\nText: {text[:100]}...\")\n",
    "            if attempt < max_retries - 1:\n",
    "                time.sleep(delay)\n",
    "            else:\n",
    "                logging.error(f\"All translation attempts failed for text: {text[:100]}...\")\n",
    "                return f\"TRANSLATION_FAILED: {text}\"  # Return original text with error flag\n",
    "\n",
    "def batch_translate_dataframe(df, columns_to_translate, batch_size=100):\n",
    "    \"\"\"\n",
    "    Translate dataframe columns in batches with progress tracking\n",
    "    \"\"\"\n",
    "    setup_logging()\n",
    "    df_copy = df.copy()\n",
    "    \n",
    "    for column in columns_to_translate:\n",
    "        target_column = f\"{column}_fr\"\n",
    "        logging.info(f\"Starting translation of column: {column}\")\n",
    "        \n",
    "        # Initialize empty target column\n",
    "        df_copy[target_column] = ''\n",
    "        \n",
    "        # Process in batches with progress bar\n",
    "        for i in tqdm(range(0, len(df_copy), batch_size), desc=f\"Translating {column}\"):\n",
    "            batch = df_copy.iloc[i:i+batch_size]\n",
    "            \n",
    "            # Translate each item in the batch\n",
    "            for idx, text in batch[column].items():\n",
    "                translation = safe_translate(text)\n",
    "                df_copy.at[idx, target_column] = translation\n",
    "                \n",
    "            # Add delay between batches to avoid rate limiting\n",
    "            time.sleep(1)\n",
    "            \n",
    "        # Log completion of column\n",
    "        logging.info(f\"Completed translation of column: {column}\")\n",
    "        \n",
    "        # Save intermediate results\n",
    "        df_copy.to_csv(\"translation_checkpoint.csv\", index=False)\n",
    "        \n",
    "    return df_copy"
   ]
  },
  {
   "cell_type": "code",
   "execution_count": 26,
   "metadata": {},
   "outputs": [
    {
     "name": "stderr",
     "output_type": "stream",
     "text": [
      "Translating user_query: 100%|██████████| 265/265 [1:57:07<00:00, 26.52s/it]\n",
      "Translating solution: 100%|██████████| 265/265 [50:25<00:00, 11.42s/it] \n"
     ]
    },
    {
     "name": "stdout",
     "output_type": "stream",
     "text": [
      "Translation complete. Dataset saved as 'augmented_data_french_2.csv'\n"
     ]
    }
   ],
   "source": [
    "def main():\n",
    "    try:\n",
    "        \n",
    "        # Specify columns to translate\n",
    "        columns_to_translate = [\"user_query\", \"solution\"]\n",
    "        \n",
    "        # Perform translation\n",
    "        translated_df = batch_translate_dataframe(\n",
    "            final_df_french_2,\n",
    "            columns_to_translate,\n",
    "            batch_size=50  # Adjust batch size as needed\n",
    "        )\n",
    "        \n",
    "        # Save final results\n",
    "        translated_df.to_csv(\"data/data-translated/augmented_data_english_french_v1.csv\", index=False)\n",
    "        logging.info(\"Translation complete. Dataset saved successfully.\")\n",
    "        print(\"Translation complete. Dataset saved as 'data/data-translated/augmented_data_english_french_v1.csv'\")\n",
    "        \n",
    "    except Exception as e:\n",
    "        logging.error(f\"An error occurred: {str(e)}\")\n",
    "        raise\n",
    "\n",
    "if __name__ == \"__main__\":\n",
    "    main()"
   ]
  },
  {
   "cell_type": "code",
   "execution_count": 31,
   "metadata": {},
   "outputs": [
    {
     "name": "stdout",
     "output_type": "stream",
     "text": [
      "French version extracted and saved to data/augmented_data_french.csv\n"
     ]
    }
   ],
   "source": [
    "input_file = \"data/data-translated/augmented_data_english_french_v1.csv\"  \n",
    "output_file = \"data/data-translated/augmented_data_french_v1.csv\"  \n",
    "\n",
    "french_dataset = extract_french_version(input_file, output_file)"
   ]
  },
  {
   "cell_type": "code",
   "execution_count": 38,
   "metadata": {},
   "outputs": [
    {
     "name": "stdout",
     "output_type": "stream",
     "text": [
      "Version 1\n",
      "En/Fr : 13225 /n En: 13225 /n Fr : 13225\n"
     ]
    }
   ],
   "source": [
    "df_en_fr = pd.read_csv(input_file)\n",
    "df_en = pd.read_csv(\"data/finaL_helpdesk_dataset_v1.csv\")\n",
    "df_fr = pd.read_csv(output_file)\n",
    "\n",
    "print(\"Version 1\")\n",
    "print(f\"En/Fr : {len(df_en_fr)} /n En: {len(df_en)} /n Fr : {len(df_fr)}\")"
   ]
  },
  {
   "cell_type": "markdown",
   "metadata": {},
   "source": [
    "--------------\n",
    "# Version 2 (version 1 + rogue data)"
   ]
  },
  {
   "cell_type": "code",
   "execution_count": 40,
   "metadata": {},
   "outputs": [
    {
     "data": {
      "text/html": [
       "<div>\n",
       "<style scoped>\n",
       "    .dataframe tbody tr th:only-of-type {\n",
       "        vertical-align: middle;\n",
       "    }\n",
       "\n",
       "    .dataframe tbody tr th {\n",
       "        vertical-align: top;\n",
       "    }\n",
       "\n",
       "    .dataframe thead th {\n",
       "        text-align: right;\n",
       "    }\n",
       "</style>\n",
       "<table border=\"1\" class=\"dataframe\">\n",
       "  <thead>\n",
       "    <tr style=\"text-align: right;\">\n",
       "      <th></th>\n",
       "      <th>user_query</th>\n",
       "      <th>intent</th>\n",
       "      <th>solution</th>\n",
       "    </tr>\n",
       "  </thead>\n",
       "  <tbody>\n",
       "    <tr>\n",
       "      <th>0</th>\n",
       "      <td>Hey there, I'm having trouble logging in. My p...</td>\n",
       "      <td>reset_password</td>\n",
       "      <td>Please follow the steps in the password reset ...</td>\n",
       "    </tr>\n",
       "    <tr>\n",
       "      <th>1</th>\n",
       "      <td>Hi, I'm having an issue with my account. I'm s...</td>\n",
       "      <td>reset_password</td>\n",
       "      <td>Please follow the steps in the password reset ...</td>\n",
       "    </tr>\n",
       "    <tr>\n",
       "      <th>2</th>\n",
       "      <td>Hi, I'm having some trouble with my password. ...</td>\n",
       "      <td>reset_password</td>\n",
       "      <td>Please follow the steps in the password reset ...</td>\n",
       "    </tr>\n",
       "    <tr>\n",
       "      <th>3</th>\n",
       "      <td>Hello, I'm having a problem with my account lo...</td>\n",
       "      <td>reset_password</td>\n",
       "      <td>Please follow the steps in the password reset ...</td>\n",
       "    </tr>\n",
       "    <tr>\n",
       "      <th>4</th>\n",
       "      <td>Hi, I'm having difficulty logging in to my acc...</td>\n",
       "      <td>reset_password</td>\n",
       "      <td>Please follow the steps in the password reset ...</td>\n",
       "    </tr>\n",
       "  </tbody>\n",
       "</table>\n",
       "</div>"
      ],
      "text/plain": [
       "                                          user_query          intent  \\\n",
       "0  Hey there, I'm having trouble logging in. My p...  reset_password   \n",
       "1  Hi, I'm having an issue with my account. I'm s...  reset_password   \n",
       "2  Hi, I'm having some trouble with my password. ...  reset_password   \n",
       "3  Hello, I'm having a problem with my account lo...  reset_password   \n",
       "4  Hi, I'm having difficulty logging in to my acc...  reset_password   \n",
       "\n",
       "                                            solution  \n",
       "0  Please follow the steps in the password reset ...  \n",
       "1  Please follow the steps in the password reset ...  \n",
       "2  Please follow the steps in the password reset ...  \n",
       "3  Please follow the steps in the password reset ...  \n",
       "4  Please follow the steps in the password reset ...  "
      ]
     },
     "execution_count": 40,
     "metadata": {},
     "output_type": "execute_result"
    }
   ],
   "source": [
    "df_rogue = pd.read_csv(\"../Open Router/data/rogue_rose_data.csv\")\n",
    "df_rogue.head()"
   ]
  },
  {
   "cell_type": "code",
   "execution_count": 39,
   "metadata": {},
   "outputs": [
    {
     "data": {
      "text/plain": [
       "961"
      ]
     },
     "execution_count": 39,
     "metadata": {},
     "output_type": "execute_result"
    }
   ],
   "source": [
    "len(df_rogue)"
   ]
  },
  {
   "cell_type": "code",
   "execution_count": 52,
   "metadata": {},
   "outputs": [
    {
     "name": "stdout",
     "output_type": "stream",
     "text": [
      "Original dataset size: 1022 \n",
      " GPT-4o mini dataset size: 13225 \n",
      " Rogue dataset size: 961 \n",
      "Final dataset size: 14165\n"
     ]
    }
   ],
   "source": [
    "final_df_2 = pd.concat([df_en, df_rogue], ignore_index=True)\n",
    "\n",
    "# Remove duplicates (if any)\n",
    "final_df_2 = final_df_2.drop_duplicates(subset=[\"user_query\"])\n",
    "\n",
    "final_df_2.to_csv(\"data/finaL_helpdesk_dataset_v2.csv\", index=False)\n",
    "print(f\"Original dataset size: {len(df)} \\n GPT-4o mini dataset size: {len(df_en)} \\n Rogue dataset size: {len(df_rogue)} \\nFinal dataset size: {len(final_df_2)}\")"
   ]
  },
  {
   "cell_type": "code",
   "execution_count": 44,
   "metadata": {},
   "outputs": [
    {
     "name": "stderr",
     "output_type": "stream",
     "text": [
      "Translating user_query: 100%|██████████| 284/284 [1:18:52<00:00, 16.66s/it] \n",
      "Translating solution: 100%|██████████| 284/284 [50:55<00:00, 10.76s/it]\n"
     ]
    },
    {
     "name": "stdout",
     "output_type": "stream",
     "text": [
      "Translation complete. Dataset saved as 'augmented_data_french_2.csv'\n"
     ]
    }
   ],
   "source": [
    "def main():\n",
    "    try:\n",
    "        \n",
    "        # Specify columns to translate\n",
    "        columns_to_translate = [\"user_query\", \"solution\"]\n",
    "        \n",
    "        # Perform translation\n",
    "        translated_df = batch_translate_dataframe(\n",
    "            final_df_2,\n",
    "            columns_to_translate,\n",
    "            batch_size=50  # Adjust batch size as needed\n",
    "        )\n",
    "        \n",
    "        # Save final results\n",
    "        translated_df.to_csv(\"data/data-translated/augmented_data_english_french_v2.csv\", index=False)\n",
    "        logging.info(\"Translation complete. Dataset saved successfully.\")\n",
    "        print(\"Translation complete. Dataset saved as 'data/data-translated/augmented_data_english_french_v2.csv'\")\n",
    "        \n",
    "    except Exception as e:\n",
    "        logging.error(f\"An error occurred: {str(e)}\")\n",
    "        raise\n",
    "\n",
    "if __name__ == \"__main__\":\n",
    "    main()"
   ]
  },
  {
   "cell_type": "code",
   "execution_count": 46,
   "metadata": {},
   "outputs": [
    {
     "name": "stdout",
     "output_type": "stream",
     "text": [
      "French version extracted and saved to data/augmented_data_french_v2.csv\n"
     ]
    }
   ],
   "source": [
    "input_file = \"data/data-translated/augmented_data_english_french_v2.csv\"  \n",
    "output_file = \"data/data-translated/augmented_data_french_v2.csv\"  \n",
    "\n",
    "french_dataset = extract_french_version(input_file, output_file)"
   ]
  },
  {
   "cell_type": "code",
   "execution_count": 47,
   "metadata": {},
   "outputs": [
    {
     "name": "stdout",
     "output_type": "stream",
     "text": [
      "Version 2\n",
      "En/Fr : 14165 /n En: 14165 /n Fr : 14165\n"
     ]
    }
   ],
   "source": [
    "df_en_fr_2 = pd.read_csv(input_file)\n",
    "df_en_2 = pd.read_csv(\"data/finaL_helpdesk_dataset_v2.csv\")\n",
    "df_fr_2 = pd.read_csv(output_file)\n",
    "\n",
    "print(\"Version 2\")\n",
    "print(f\"En/Fr : {len(df_en_fr_2)} /n En: {len(df_en_fr_2)} /n Fr : {len(df_fr_2)}\")"
   ]
  },
  {
   "cell_type": "markdown",
   "metadata": {},
   "source": [
    "---\n",
    "## Version 3 (version 2 + back transalated data)"
   ]
  },
  {
   "cell_type": "code",
   "execution_count": 48,
   "metadata": {},
   "outputs": [
    {
     "data": {
      "text/html": [
       "<div>\n",
       "<style scoped>\n",
       "    .dataframe tbody tr th:only-of-type {\n",
       "        vertical-align: middle;\n",
       "    }\n",
       "\n",
       "    .dataframe tbody tr th {\n",
       "        vertical-align: top;\n",
       "    }\n",
       "\n",
       "    .dataframe thead th {\n",
       "        text-align: right;\n",
       "    }\n",
       "</style>\n",
       "<table border=\"1\" class=\"dataframe\">\n",
       "  <thead>\n",
       "    <tr style=\"text-align: right;\">\n",
       "      <th></th>\n",
       "      <th>user_query</th>\n",
       "      <th>intent</th>\n",
       "      <th>solution</th>\n",
       "    </tr>\n",
       "  </thead>\n",
       "  <tbody>\n",
       "    <tr>\n",
       "      <th>0</th>\n",
       "      <td>My password is not working, can you help me re...</td>\n",
       "      <td>reset_password</td>\n",
       "      <td>Please follow the steps in the password reset ...</td>\n",
       "    </tr>\n",
       "    <tr>\n",
       "      <th>1</th>\n",
       "      <td>I can't log in. I think I forgot my password. ...</td>\n",
       "      <td>reset_password</td>\n",
       "      <td>A password reset link has been sent to your em...</td>\n",
       "    </tr>\n",
       "    <tr>\n",
       "      <th>2</th>\n",
       "      <td>I can't access my account because my password ...</td>\n",
       "      <td>reset_password</td>\n",
       "      <td>Try resetting your password using the 'Forgot ...</td>\n",
       "    </tr>\n",
       "    <tr>\n",
       "      <th>3</th>\n",
       "      <td>Can you reset my password for me? My account h...</td>\n",
       "      <td>reset_password</td>\n",
       "      <td>Please check your email for a reset link and f...</td>\n",
       "    </tr>\n",
       "    <tr>\n",
       "      <th>4</th>\n",
       "      <td>I don't remember my password and need to reset...</td>\n",
       "      <td>reset_password</td>\n",
       "      <td>A reset link has been sent to your email. Use ...</td>\n",
       "    </tr>\n",
       "  </tbody>\n",
       "</table>\n",
       "</div>"
      ],
      "text/plain": [
       "                                          user_query          intent  \\\n",
       "0  My password is not working, can you help me re...  reset_password   \n",
       "1  I can't log in. I think I forgot my password. ...  reset_password   \n",
       "2  I can't access my account because my password ...  reset_password   \n",
       "3  Can you reset my password for me? My account h...  reset_password   \n",
       "4  I don't remember my password and need to reset...  reset_password   \n",
       "\n",
       "                                            solution  \n",
       "0  Please follow the steps in the password reset ...  \n",
       "1  A password reset link has been sent to your em...  \n",
       "2  Try resetting your password using the 'Forgot ...  \n",
       "3  Please check your email for a reset link and f...  \n",
       "4  A reset link has been sent to your email. Use ...  "
      ]
     },
     "execution_count": 48,
     "metadata": {},
     "output_type": "execute_result"
    }
   ],
   "source": [
    "df_back_translated = pd.read_csv(\"../3-Techniques/data/back-translated-100.csv\")\n",
    "df_back_translated.head()"
   ]
  },
  {
   "cell_type": "code",
   "execution_count": 49,
   "metadata": {},
   "outputs": [
    {
     "data": {
      "text/plain": [
       "1022"
      ]
     },
     "execution_count": 49,
     "metadata": {},
     "output_type": "execute_result"
    }
   ],
   "source": [
    "len(df_back_translated)"
   ]
  },
  {
   "cell_type": "code",
   "execution_count": 53,
   "metadata": {},
   "outputs": [
    {
     "name": "stdout",
     "output_type": "stream",
     "text": [
      "Original dataset size: 1022 \n",
      " GPT-4o mini dataset size: 13225 \n",
      " Rogue dataset size: 961 \n",
      " Back Translated dataset size: 1022 \n",
      "Final dataset size: 14952\n"
     ]
    }
   ],
   "source": [
    "final_df_3 = pd.concat([df_en_2, df_back_translated], ignore_index=True)\n",
    "\n",
    "# Remove duplicates (if any)\n",
    "final_df_3 = final_df_3.drop_duplicates(subset=[\"user_query\"])\n",
    "\n",
    "final_df_3.to_csv(\"data/finaL_helpdesk_dataset_v3.csv\", index=False)\n",
    "print(f\"Original dataset size: {len(df)} \\n GPT-4o mini dataset size: {len(df_en)} \\n Rogue dataset size: {len(df_rogue)} \\n Back Translated dataset size: {len(df_back_translated)} \\nFinal dataset size: {len(final_df_3)}\")"
   ]
  },
  {
   "cell_type": "code",
   "execution_count": 55,
   "metadata": {},
   "outputs": [
    {
     "name": "stderr",
     "output_type": "stream",
     "text": [
      "Translating user_query: 100%|██████████| 300/300 [1:07:39<00:00, 13.53s/it]\n",
      "Translating solution: 100%|██████████| 300/300 [56:23<00:00, 11.28s/it] \n"
     ]
    },
    {
     "name": "stdout",
     "output_type": "stream",
     "text": [
      "Translation complete. Dataset saved as 'augmented_data_french_2.csv'\n"
     ]
    }
   ],
   "source": [
    "def main():\n",
    "    try:\n",
    "        \n",
    "        # Specify columns to translate\n",
    "        columns_to_translate = [\"user_query\", \"solution\"]\n",
    "        \n",
    "        # Perform translation\n",
    "        translated_df = batch_translate_dataframe(\n",
    "            final_df_3,\n",
    "            columns_to_translate,\n",
    "            batch_size=50  # Adjust batch size as needed\n",
    "        )\n",
    "        \n",
    "        # Save final results\n",
    "        translated_df.to_csv(\"data/data-translated/augmented_data_english_french_v3.csv\", index=False)\n",
    "        logging.info(\"Translation complete. Dataset saved successfully.\")\n",
    "        print(\"Translation complete. Dataset saved as 'data/data-translated/augmented_data_english_french_v3.csv'\")\n",
    "        \n",
    "    except Exception as e:\n",
    "        logging.error(f\"An error occurred: {str(e)}\")\n",
    "        raise\n",
    "\n",
    "if __name__ == \"__main__\":\n",
    "    main()"
   ]
  },
  {
   "cell_type": "code",
   "execution_count": 58,
   "metadata": {},
   "outputs": [
    {
     "name": "stdout",
     "output_type": "stream",
     "text": [
      "French version extracted and saved to data/data-translated/augmented_data_french_v3.csv\n"
     ]
    }
   ],
   "source": [
    "input_file = \"data/data-translated/augmented_data_english_french_v3.csv\"  \n",
    "output_file = \"data/data-translated/augmented_data_french_v3.csv\"  \n",
    "\n",
    "french_dataset = extract_french_version(input_file, output_file)"
   ]
  },
  {
   "cell_type": "code",
   "execution_count": 59,
   "metadata": {},
   "outputs": [
    {
     "name": "stdout",
     "output_type": "stream",
     "text": [
      "Version 3\n",
      "En/Fr : 14952 /n En: 14952 /n Fr : 14952\n"
     ]
    }
   ],
   "source": [
    "df_en_fr_3 = pd.read_csv(input_file)\n",
    "df_en_3 = pd.read_csv(\"data/finaL_helpdesk_dataset_v3.csv\")\n",
    "df_fr_3 = pd.read_csv(output_file)\n",
    "\n",
    "print(\"Version 3\")\n",
    "print(f\"En/Fr : {len(df_en_fr_3)} /n En: {len(df_en_fr_3)} /n Fr : {len(df_fr_3)}\")"
   ]
  }
 ],
 "metadata": {
  "kernelspec": {
   "display_name": "Python 3",
   "language": "python",
   "name": "python3"
  },
  "language_info": {
   "codemirror_mode": {
    "name": "ipython",
    "version": 3
   },
   "file_extension": ".py",
   "mimetype": "text/x-python",
   "name": "python",
   "nbconvert_exporter": "python",
   "pygments_lexer": "ipython3",
   "version": "3.12.4"
  }
 },
 "nbformat": 4,
 "nbformat_minor": 2
}
